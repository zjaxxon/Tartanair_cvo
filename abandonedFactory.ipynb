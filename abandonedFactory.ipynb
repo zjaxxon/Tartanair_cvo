{
 "cells": [
  {
   "cell_type": "code",
   "execution_count": 1,
   "id": "d7994d2d",
   "metadata": {},
   "outputs": [],
   "source": [
    "# import sys\n",
    "# !{sys.executable} -m pip install evo --upgrade --no-binary evo --user"
   ]
  },
  {
   "cell_type": "code",
   "execution_count": 12,
   "id": "1741226a",
   "metadata": {},
   "outputs": [],
   "source": [
    "from evo.tools import log\n",
    "log.configure_logging()\n",
    "from evo.core import metrics"
   ]
  },
  {
   "cell_type": "code",
   "execution_count": 13,
   "id": "f5f1386b",
   "metadata": {},
   "outputs": [],
   "source": [
    "# from evo.tools import plot\n",
    "# from evo.tools.plot import PlotMode\n",
    "# from evo.core.metrics import PoseRelation, Unit\n",
    "# from evo.tools.settings import SETTINGS\n",
    "\n",
    "# # temporarily override some package settings\n",
    "# SETTINGS.plot_split = True\n",
    "# SETTINGS.plot_usetex = False\n",
    "\n",
    "# # magic plot configuration\n",
    "# import matplotlib.pyplot as plt\n",
    "# %matplotlib inline\n",
    "# %matplotlib notebook\n",
    "from evo.tools import plot\n",
    "import matplotlib.pyplot as plt\n",
    "%matplotlib inline\n",
    "%matplotlib notebook\n",
    "\n",
    "# temporarily override some package settings\n",
    "from evo.tools.settings import SETTINGS\n",
    "SETTINGS.plot_usetex = False"
   ]
  },
  {
   "cell_type": "code",
   "execution_count": 14,
   "id": "ad298a13",
   "metadata": {},
   "outputs": [],
   "source": [
    "# # interactive widgets configuration\n",
    "# import ipywidgets\n",
    "\n",
    "# check_opts_ape = {\"align\": False, \"correct_scale\": False, \"show_plot\": True}\n",
    "# check_boxes_ape=[ipywidgets.Checkbox(description=desc, value=val) for desc, val in check_opts_ape.items()]\n",
    "# check_opts_rpe = {\"align\": False, \"correct_scale\": False, \"all_pairs\": False, \"show_plot\": True}\n",
    "# check_boxes_rpe=[ipywidgets.Checkbox(description=desc, value=val) for desc, val in check_opts_rpe.items()]\n",
    "# delta_input = ipywidgets.FloatText(value=1.0, description='delta', disabled=False, color='black')\n",
    "# delta_unit_selector=ipywidgets.Dropdown(\n",
    "#     options={u.value: u for u in Unit if u is not Unit.seconds},\n",
    "#     value=Unit.frames, description='delta_unit'\n",
    "# )\n",
    "# plotmode_selector=ipywidgets.Dropdown(\n",
    "#     options={p.value: p for p in PlotMode},\n",
    "#     value=PlotMode.xy, description='plot_mode'\n",
    "# )\n",
    "# pose_relation_selector=ipywidgets.Dropdown(\n",
    "#     options={p.value: p for p in PoseRelation},\n",
    "#     value=PoseRelation.translation_part, description='pose_relation'\n",
    "# )"
   ]
  },
  {
   "cell_type": "code",
   "execution_count": 15,
   "id": "d39b2e11",
   "metadata": {},
   "outputs": [],
   "source": [
    "from evo.tools import file_interface\n",
    "from evo.core import sync"
   ]
  },
  {
   "cell_type": "code",
   "execution_count": 22,
   "id": "b6ea04d0-ec98-4a73-b2d6-ea24620b45f0",
   "metadata": {},
   "outputs": [],
   "source": [
    "import copy\n",
    "\n",
    "def traj_plot(traj_est, traj_ref):\n",
    "    traj_est_aligned = copy.deepcopy(traj_est)\n",
    "    traj_est_aligned.align(traj_ref, correct_scale=False, correct_only_scale=False)\n",
    "    fig = plt.figure()\n",
    "    traj_by_label = {\n",
    "        \"estimate\": traj_est,\n",
    "        \"aligned_est\": traj_est_aligned,\n",
    "        \"gt\": traj_ref,\n",
    "    }\n",
    "    plot.trajectories(fig, traj_by_label, plot.PlotMode.xyz)\n",
    "    plt.show()\n",
    "    tum_rpe_equivalent = metrics.RPE(metrics.PoseRelation.translation_part, delta, metrics.Unit.frames, all_pairs=True)\n",
    "    tum_rpe_equivalent.process_data((traj_ref, traj_est_aligned))\n",
    "    print(tum_rpe_equivalent.get_statistic(metrics.StatisticsType.mean))"
   ]
  },
  {
   "cell_type": "code",
   "execution_count": 25,
   "id": "a0382393",
   "metadata": {},
   "outputs": [],
   "source": [
    "pose_relation = metrics.PoseRelation.translation_part\n",
    "# normal mode\n",
    "delta = 1\n",
    "delta_unit = metrics.Unit.frames\n",
    "\n",
    "# all pairs mode\n",
    "all_pairs = False  # activate\n",
    "\n",
    "def rpe_run(traj_est, traj_ref):\n",
    "#     traj_est_aligned = copy.deepcopy(traj_est)\n",
    "#     traj_est_aligned.align(traj_ref, correct_scale=False, correct_only_scale=False)\n",
    "    data = (traj_ref, traj_est)\n",
    "    rpe_metric = metrics.RPE(pose_relation=pose_relation, delta=delta, delta_unit=delta_unit, all_pairs=all_pairs)\n",
    "    rpe_metric.process_data(data)\n",
    "    rpe_stat = rpe_metric.get_statistic(metrics.StatisticsType.rmse)\n",
    "    print(rpe_stat)"
   ]
  },
  {
   "cell_type": "code",
   "execution_count": 26,
   "id": "6331ca92",
   "metadata": {},
   "outputs": [
    {
     "name": "stdout",
     "output_type": "stream",
     "text": [
      "abandonedfactory\n",
      "434 poses, 68.205m path length 434 poses, 66.983m path length\n",
      "0.322366940829296\n",
      "abandonedfactory_night\n",
      "837 poses, 137.741m path length 837 poses, 127.688m path length\n",
      "0.27932094769494464\n",
      "endofworld\n",
      "466 poses, 85.122m path length 466 poses, 89.111m path length\n",
      "0.3452498831520391\n",
      "carwelding\n",
      "976 poses, 115.882m path length 976 poses, 123.650m path length\n",
      "0.22935905934492215\n",
      "amusement\n",
      "734 poses, 123.657m path length 734 poses, 126.364m path length\n",
      "0.3213345770171836\n",
      "gascola\n",
      "382 poses, 47.284m path length 382 poses, 44.981m path length\n",
      "0.19187926727002574\n",
      "hospital\n",
      "480 poses, 36.881m path length 480 poses, 41.468m path length\n",
      "0.17908632854049905\n",
      "office\n",
      "1395 poses, 89.041m path length 1395 poses, 92.506m path length\n",
      "0.11016287774951536\n",
      "seasonsforest\n",
      "319 poses, 43.515m path length 319 poses, 43.932m path length\n",
      "0.28412104889243656\n",
      "seasonsforest_winter\n",
      "847 poses, 159.132m path length 847 poses, 160.303m path length\n",
      "0.2862137032071599\n",
      "soulcity\n",
      "1083 poses, 147.843m path length 1083 poses, 148.337m path length\n",
      "0.2732218927415838\n"
     ]
    }
   ],
   "source": [
    "seqs = [\"abandonedfactory\", \"abandonedfactory_night\", \"endofworld\", \"carwelding\", \"amusement\", \"gascola\", \"hospital\", \"office\", \"seasonsforest\", \"seasonsforest_winter\", \"soulcity\"]\n",
    "# \"oldtown\" \"japanesealley\" \"neighborhood\" \"ocean\" \"seasidetown\" \"westerndesert\"\n",
    "for seq in seqs:\n",
    "    print(seq)\n",
    "    traj_est = file_interface.read_kitti_poses_file(\"./est/\" + seq + \".txt\")\n",
    "    traj_ref = file_interface.read_kitti_poses_file(\"./ref/pose_left_\" + seq + \"_kitti.txt\")\n",
    "    print(traj_est, traj_ref)\n",
    "    rpe_run(traj_est, traj_ref)\n"
   ]
  },
  {
   "cell_type": "code",
   "execution_count": null,
   "id": "6f6af263",
   "metadata": {},
   "outputs": [],
   "source": []
  },
  {
   "cell_type": "code",
   "execution_count": null,
   "id": "585f5c75",
   "metadata": {},
   "outputs": [],
   "source": []
  },
  {
   "cell_type": "code",
   "execution_count": null,
   "id": "cde3281d",
   "metadata": {},
   "outputs": [],
   "source": []
  },
  {
   "cell_type": "code",
   "execution_count": null,
   "id": "a849ac77",
   "metadata": {},
   "outputs": [],
   "source": []
  },
  {
   "cell_type": "code",
   "execution_count": null,
   "id": "a5fa505f",
   "metadata": {},
   "outputs": [],
   "source": []
  },
  {
   "cell_type": "code",
   "execution_count": null,
   "id": "e63232b1",
   "metadata": {},
   "outputs": [],
   "source": []
  },
  {
   "cell_type": "code",
   "execution_count": null,
   "id": "d2463fd6",
   "metadata": {},
   "outputs": [],
   "source": []
  },
  {
   "cell_type": "code",
   "execution_count": null,
   "id": "bc27da92",
   "metadata": {},
   "outputs": [],
   "source": []
  },
  {
   "cell_type": "code",
   "execution_count": null,
   "id": "ed8dbb74",
   "metadata": {},
   "outputs": [],
   "source": []
  }
 ],
 "metadata": {
  "kernelspec": {
   "display_name": "Python (evoenv)",
   "language": "python",
   "name": "evoenv"
  },
  "language_info": {
   "codemirror_mode": {
    "name": "ipython",
    "version": 3
   },
   "file_extension": ".py",
   "mimetype": "text/x-python",
   "name": "python",
   "nbconvert_exporter": "python",
   "pygments_lexer": "ipython3",
   "version": "3.10.9"
  }
 },
 "nbformat": 4,
 "nbformat_minor": 5
}
